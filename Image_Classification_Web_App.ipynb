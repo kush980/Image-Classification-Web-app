{
  "nbformat": 4,
  "nbformat_minor": 0,
  "metadata": {
    "colab": {
      "provenance": [],
      "authorship_tag": "ABX9TyNSM7Hv+6zcRq9ZYYm7gMIs",
      "include_colab_link": true
    },
    "kernelspec": {
      "name": "python3",
      "display_name": "Python 3"
    },
    "language_info": {
      "name": "python"
    },
    "accelerator": "TPU",
    "gpuClass": "standard"
  },
  "cells": [
    {
      "cell_type": "markdown",
      "metadata": {
        "id": "view-in-github",
        "colab_type": "text"
      },
      "source": [
        "<a href=\"https://colab.research.google.com/github/kush980/Image-Classification-Web-app/blob/master/Image_Classification_Web_App.ipynb\" target=\"_parent\"><img src=\"https://colab.research.google.com/assets/colab-badge.svg\" alt=\"Open In Colab\"/></a>"
      ]
    },
    {
      "cell_type": "markdown",
      "source": [
        "#Importing Libraries"
      ],
      "metadata": {
        "id": "f6ukS8tVNYIJ"
      }
    },
    {
      "cell_type": "code",
      "source": [
        "import torch\n",
        "import torchvision\n",
        "import numpy as np\n",
        "import matplotlib.pyplot as plt\n",
        "import torch.nn as nn\n",
        "import torch.nn.functional as F\n",
        "from torch.utils.data.dataloader import DataLoader\n",
        "from torchvision.datasets import ImageFolder\n",
        "from torch.utils.data import Dataset\n",
        "%matplotlib inline"
      ],
      "metadata": {
        "id": "QpOQBybmNbnh"
      },
      "execution_count": 5,
      "outputs": []
    },
    {
      "cell_type": "markdown",
      "source": [
        "#Importing and creating custom Dataset"
      ],
      "metadata": {
        "id": "bMGIMNkpNegh"
      }
    },
    {
      "cell_type": "code",
      "source": [
        "!wget https://raw.githubusercontent.com/nirajpandkar/flowers-classification-pytorch/master/cat_to_name.json\n",
        "!wget https://s3.amazonaws.com/content.udacity-data.com/nd089/flower_data.tar.gz\n",
        "!mkdir data && tar -xvf flower_data.tar.gz -C data"
      ],
      "metadata": {
        "id": "3fibmE9ANpic"
      },
      "execution_count": null,
      "outputs": []
    },
    {
      "cell_type": "code",
      "source": [
        "data_dir = 'data'\n",
        "train_dir = data_dir + '/train'\n",
        "valid_dir = data_dir + '/valid'\n",
        "test_dir = data_dir + '/test'"
      ],
      "metadata": {
        "id": "cnqAK48WOM0r"
      },
      "execution_count": 3,
      "outputs": []
    },
    {
      "cell_type": "code",
      "source": [
        "import os,json\n",
        "\n",
        "class FlowersDataset(ImageFolder):\n",
        "    def __init__(self, root, transform):\n",
        "        self.root = root\n",
        "        super().__init__(self.root)\n",
        "        self.files = [folder+\"/\"+fname for folder in os.listdir(root) for fname in os.listdir(root+\"/\"+folder) if fname.endswith('.jpg')]\n",
        "        self.transform = transform\n",
        "        with open('cat_to_name.json', 'r') as f:\n",
        "          self.classes_idx = json.load(f)\n",
        "        category_map = sorted(self.classes_idx.items(), key=lambda x: int(x[0]))\n",
        "        self.classes = [cat[1] for cat in category_map]\n",
        "    \n",
        "    def __len__(self):\n",
        "        return len(self.files)"
      ],
      "metadata": {
        "id": "kKbOaz1ROivk"
      },
      "execution_count": 6,
      "outputs": []
    },
    {
      "cell_type": "code",
      "source": [
        "import torchvision.transforms as T\n",
        "\n",
        "img_size = 224\n",
        "imagenet_stats = ([0.485, 0.456, 0.406], [0.229, 0.224, 0.225])"
      ],
      "metadata": {
        "id": "7lOXj27wUWOa"
      },
      "execution_count": 7,
      "outputs": []
    },
    {
      "cell_type": "code",
      "source": [
        "train_dataset = FlowersDataset(train_dir, T.Compose([T.Resize(img_size), \n",
        "                                           T.Pad(8, padding_mode='reflect'),\n",
        "                                           T.RandomCrop(img_size), \n",
        "                                           T.ToTensor(), \n",
        "                                           T.Normalize(*imagenet_stats)]))\n",
        "print(train_dataset.classes)\n",
        "print(len(train_dataset.classes))\n",
        "print(len(train_dataset.files))"
      ],
      "metadata": {
        "colab": {
          "base_uri": "https://localhost:8080/"
        },
        "id": "LVzt27tdU_OQ",
        "outputId": "ba216fe3-78b2-4189-c440-c3516ac0343a"
      },
      "execution_count": 10,
      "outputs": [
        {
          "output_type": "stream",
          "name": "stdout",
          "text": [
            "['pink primrose', 'hard-leaved pocket orchid', 'canterbury bells', 'sweet pea', 'english marigold', 'tiger lily', 'moon orchid', 'bird of paradise', 'monkshood', 'globe thistle', 'snapdragon', \"colt's foot\", 'king protea', 'spear thistle', 'yellow iris', 'globe-flower', 'purple coneflower', 'peruvian lily', 'balloon flower', 'giant white arum lily', 'fire lily', 'pincushion flower', 'fritillary', 'red ginger', 'grape hyacinth', 'corn poppy', 'prince of wales feathers', 'stemless gentian', 'artichoke', 'sweet william', 'carnation', 'garden phlox', 'love in the mist', 'mexican aster', 'alpine sea holly', 'ruby-lipped cattleya', 'cape flower', 'great masterwort', 'siam tulip', 'lenten rose', 'barbeton daisy', 'daffodil', 'sword lily', 'poinsettia', 'bolero deep blue', 'wallflower', 'marigold', 'buttercup', 'oxeye daisy', 'common dandelion', 'petunia', 'wild pansy', 'primula', 'sunflower', 'pelargonium', 'bishop of llandaff', 'gaura', 'geranium', 'orange dahlia', 'pink-yellow dahlia', 'cautleya spicata', 'japanese anemone', 'black-eyed susan', 'silverbush', 'californian poppy', 'osteospermum', 'spring crocus', 'bearded iris', 'windflower', 'tree poppy', 'gazania', 'azalea', 'water lily', 'rose', 'thorn apple', 'morning glory', 'passion flower', 'lotus lotus', 'toad lily', 'anthurium', 'frangipani', 'clematis', 'hibiscus', 'columbine', 'desert-rose', 'tree mallow', 'magnolia', 'cyclamen', 'watercress', 'canna lily', 'hippeastrum', 'bee balm', 'ball moss', 'foxglove', 'bougainvillea', 'camellia', 'mallow', 'mexican petunia', 'bromelia', 'blanket flower', 'trumpet creeper', 'blackberry lily']\n",
            "102\n",
            "6552\n"
          ]
        }
      ]
    },
    {
      "cell_type": "code",
      "source": [
        "validation_dataset = FlowersDataset(valid_dir, T.Compose([T.Resize(img_size), \n",
        "                                           T.Pad(8, padding_mode='reflect'),\n",
        "                                           T.RandomCrop(img_size), \n",
        "                                           T.ToTensor(), \n",
        "                                           T.Normalize(*imagenet_stats)]))\n",
        "\n",
        "test_dataset = FlowersDataset(test_dir, T.Compose([T.Resize(img_size), \n",
        "                                           T.Pad(8, padding_mode='reflect'),\n",
        "                                           T.RandomCrop(img_size), \n",
        "                                           T.ToTensor(), \n",
        "                                           T.Normalize(*imagenet_stats)]))"
      ],
      "metadata": {
        "id": "4XoGqA7iVaJa"
      },
      "execution_count": 11,
      "outputs": []
    },
    {
      "cell_type": "code",
      "source": [],
      "metadata": {
        "id": "cDKK_UDwVmcr"
      },
      "execution_count": null,
      "outputs": []
    }
  ]
}